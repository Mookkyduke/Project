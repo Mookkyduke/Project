{
  "nbformat": 4,
  "nbformat_minor": 0,
  "metadata": {
    "colab": {
      "provenance": [],
      "authorship_tag": "ABX9TyPahHxS/47cRoBXnM2+9cm5",
      "include_colab_link": true
    },
    "kernelspec": {
      "name": "python3",
      "display_name": "Python 3"
    },
    "language_info": {
      "name": "python"
    }
  },
  "cells": [
    {
      "cell_type": "markdown",
      "metadata": {
        "id": "view-in-github",
        "colab_type": "text"
      },
      "source": [
        "<a href=\"https://colab.research.google.com/github/Mookkyduke/Project/blob/main/Project.ipynb\" target=\"_parent\"><img src=\"https://colab.research.google.com/assets/colab-badge.svg\" alt=\"Open In Colab\"/></a>"
      ]
    },
    {
      "cell_type": "markdown",
      "source": [
        "# Project: Get to Know Your Data\n",
        "รายชื่อสมาชิกกลุ่มที่ 5\n",
        "\n",
        "\n",
        "1.   รหัสนศ.    พงศ์พิชา ขจรฟุ้ง  \n",
        "2.   633020668-9 ณัฏฐ์ชนก พิมพ์ภูคำ\n",
        "\n",
        "\n",
        "จากรายชื่อดังต่อไปนี้ ให้แต่ละกลุ่มเลือกข้อมูล (i.e. Kaggle, Data.World, UCI, Google Dataset, data.go.th/Open Government Data, โปรเจกต์, etc.)\n",
        "มาวิเคราะห์และนำเสนอ โดยประกอบไปด้วย\n",
        "- ที่มาและความสําคัญของโครงงาน\n",
        "- แหล่งข้อมูลและการได้มาซึ่งข้อมูล\n",
        "- จุดมุ่งหมายที่หวังว่าจะได้จากโครงงานนี้"
      ],
      "metadata": {
        "id": "g91NCK4CUVqf"
      }
    },
    {
      "cell_type": "markdown",
      "source": [
        "### **ที่มาและความสำคัญของโครงงาน**\n",
        "ต้นกำเนิดของคริปโทเคอร์เรนซี ที่ได้รับการยอมรับจากทั่วโลกนั้น ได้เกิดขึ้นในปี พ.ศ. 2552 จากการเปิดตัวของเหรียญคริปโทเคอร์เรนซี ที่ใช้ชื่อว่า บิทคอยน์ (Bitcoin) โดยใช้ชื่ออย่อว่า BTC ถูกสร้างขึ้นโดยนักพัฒนาที่ใช้นามแฝงว่า \"ซาโตชิ นากาโมโตะ\" (Satoshi nakamoto) ซึ่งในขณะนั้นบิทคอยน์ ได้เปิดตัวและนำเสนอตัวเองในฐานะที่เป็นเพียง “ระบบการชำระเงิน” (Electronic payment system) เท่านั้น แต่เป็นระบบการชำระเงินที่มี Crytographic หรือการยืนยันธุรกรรมร่วมกันซึ่งก็คือ บล็อกเชน (Blockchain) นั่นเอง\n",
        "\n",
        "เนื่องจากระบบการชำระเงินของ บิทคอยน์ ที่มีพื้นฐานอยู่บนเทคโนโลยีบล็อกเชน ได้สร้างความเชื่อมั่นให้กับผู้ใช้ในฐานะ “เครื่องมือสะสมมูลค่า” เพราะการทำธุรกรรมผ่านบล็อกเชน ทำให้ไม่ต้องอาศัยตัวกลางในการตรวจสอบตัดสินใจ ทำให้ไม่มีใครสามารถเข้าควบคุมการทำธุรกรรมดังกล่าวได้ ไม่เว้นแม้แต่ธนาคารกลาง หรือรัฐบาลของประเทศใด และนั่นคือจุดเริ่มต้นที่ทำให้บิทคอยน์ได้รับการยอมรับว่าเป็นสกุล เงินดิจิทัลแรกของโลก\n",
        "\n",
        "บิตคอยน์ถูกสร้างขึ้นใหม่ด้วย 'การขุด' (mining, การทำเหมือง) และสามารถแลกเป็นสกุลเงินอื่น สินค้า และบริการ ณ เดือนกุมภาพันธ์ พ.ศ. 2558 มีร้านค้ากว่า 100,000 ร้านยอมรับการจ่ายเงินด้วยบิตคอยน์ งานวิจัยจากมหาวิทยาลัยเคมบริดจ์ประมาณว่าใน พ.ศ. 2560 มีผู้ใช้เงินตราแบบดิจิทัล 2.9 ถึง 5.8 ล้านคน โดยส่วนใหญ่แล้วใช้บิตคอยน์\n",
        "\n",
        "อย่างไรก็ตาม แม้ว่าปัจจุบันนักลงทุนทั่วโลกจะหันมาให้ความสนใจกับบิทคอยน์เป็นอย่างมาก แต่ภายใต้กระแสของราคาที่พุ่งสูงขึ้นอย่างรวดเร็วและต่อเนื่องของ\n",
        "บิทคอยน์น้ั้น แสดงให้เห็นว่าราคาของบิทคอยน์มีความผันผวนค่อนข้างสูง ดังนั้นผู้ลงทุนในบิทคอยน์และคริปโทเคอร์เรนซีประเภทที่ไม่มีทรัพย์สินอ้างอิงนั้นจะต้องทำการศึกษาเพื่อให้เข้าใจในตัวเหรียญนั้นเป็นอย่างดีก่อนและสามารถรับความเสี่ยงที่จะเกิดขึ้นจากการลงทุนดังกล่าวได้ และนักลงทุนควรจะตระหนักไว้เสมอว่าบิทคอยน์นั้นเป็นคริปโทเคอร์เรนซีประเภทที่ไม่มีทรัพย์สินอ้างอิง กล่าวคือ หากเปรียบเทียบกับเงินตราแล้ว จะพบว่าก่อนที่รัฐบาลจะผลิตธนบัตร หรือเหรียญออกมา\n",
        "ใช้หมุนเวียนในระบบนั้นจะต้องมีเงิน หรือทองคำ มาเป็นหลักประกันซึ่งแสดงให้เห็นว่าธนบัตร หรือเหรียญนั้น มีมูลค่าในตัวเอง แต่ในกรณีของบิทคอยน์ ซึ่งเป็นคริปโทเคอร์เรนซีประเภทที่ไม่มีทรัพย์สินอ้างอิงนั้น จะไม่มีเงิน ทองคำ หรือทรัพย์สินมีค่าใดๆ มาใช้เป็นหลักประกันในการออกเหรียญ\n",
        "ทำให้สิ่งที่จะมาเป็นตัวกำหนดมูลค่าของบิทคอยน์ มีเพียง อุปสงค์และอุปทานเท่าน้ัน กล่าวคือ เมื่อมีความต้องการหรือมีอุปสงค์ต่อบิทคอยน์เพิ่มขึ้นก็จะทำให้ราคาของบิทคอยน์สูงขึ้นแต่หากเมื่อใดที่อุปสงค์หรือความต้องการลดลงราคาก็จะลดลงตามเช่นกัน\n",
        "\n",
        "จากความเป็นมาและความสำคัญดังกล่าว ผู้จัดทำได้เล็งเห็นถึงความสำคัญในการทำนายราคาของบิทคอยน์เพื่อให้นักลงทุนท่านอื่นๆที่สนใจในเรื่องนี้สามารถมาศึกษา หรือนำเนื้อหาในโปรเจคนี้ใช้เป็นข้อมูลในการวิเคราะห์แนวโน้มและเป็นแนวทางให้กับผู้ที่สนใจ\n"
      ],
      "metadata": {
        "id": "xkP06wA1ZO7m"
      }
    },
    {
      "cell_type": "markdown",
      "source": [
        "### **แหล่งข้อมูลและการได้มาซึ่งข้อมูล**\n",
        "https://www.kaggle.com/datasets/mczielinski/bitcoin-historical-data"
      ],
      "metadata": {
        "id": "J3at5z55Zhwa"
      }
    },
    {
      "cell_type": "markdown",
      "source": [
        "### **จุดมุ่งหมายที่หวังว่าจะได้จากโครงงานนี้**\n",
        "\n",
        "\n",
        "1.   สามารถนำความรู้ที่ได้จากการทำโครงงาน ไปประยุกต์ใช้ในรายวิชาโปรเจกต์/สหกิจได้\n",
        "2.   สามารถนำทักษะเกี่ยวกับ Data Mining มาประยุกต์ใช้ในโครงงาน และเพิ่มพูนทักษะอื่นๆได้จากโครงงานที่ทำ\n",
        "3.   สามารถนำข้อมูลที่วิเคราะห์ได้จากโครงงาน ไปปรับใช้กับการทำนายเหรียญคริปโตอื่นๆได้\n",
        "\n",
        "\n"
      ],
      "metadata": {
        "id": "g3DYPnwbZltr"
      }
    },
    {
      "cell_type": "markdown",
      "source": [
        "## Step1: Getting the Data\n",
        "ลองรันข้อมูลดูคร่าวๆ Ex. มีตัวแปรอะไรบ้าง, มีกี่แถว/คอลัมน์"
      ],
      "metadata": {
        "id": "IJSUDQI9a2q_"
      }
    },
    {
      "cell_type": "code",
      "source": [
        "import pandas as pd\n",
        "import matplotlib.pyplot as plt\n",
        "import seaborn as sns\n",
        "import numpy as np\n",
        "from sklearn.model_selection import train_test_split"
      ],
      "metadata": {
        "id": "PpiwcXtxfmKB"
      },
      "execution_count": null,
      "outputs": []
    },
    {
      "cell_type": "code",
      "source": [
        "from google.colab import drive\n",
        "drive.mount('/content/drive')"
      ],
      "metadata": {
        "colab": {
          "base_uri": "https://localhost:8080/"
        },
        "id": "jO6ARsHohysU",
        "outputId": "0e235648-6c07-4cdf-ede3-dedd404c3df5"
      },
      "execution_count": 3,
      "outputs": [
        {
          "output_type": "stream",
          "name": "stdout",
          "text": [
            "Mounted at /content/drive\n"
          ]
        }
      ]
    },
    {
      "cell_type": "code",
      "execution_count": 4,
      "metadata": {
        "id": "9dqETwrnUO6S"
      },
      "outputs": [],
      "source": [
        "df = pd.read_csv(\"/content/drive/MyDrive/Data Mining/Bitcoin Historical Data.csv\")"
      ]
    },
    {
      "cell_type": "code",
      "source": [
        "df.head()"
      ],
      "metadata": {
        "colab": {
          "base_uri": "https://localhost:8080/",
          "height": 206
        },
        "id": "De32NlFbis-F",
        "outputId": "f0675ffb-a3fb-4424-9093-c37e421c3820"
      },
      "execution_count": 7,
      "outputs": [
        {
          "output_type": "execute_result",
          "data": {
            "text/plain": [
              "    Timestamp  Open  High   Low  Close  Volume_(BTC)  Volume_(Currency)  \\\n",
              "0  1325317920  4.39  4.39  4.39   4.39      0.455581                2.0   \n",
              "1  1325317980   NaN   NaN   NaN    NaN           NaN                NaN   \n",
              "2  1325318040   NaN   NaN   NaN    NaN           NaN                NaN   \n",
              "3  1325318100   NaN   NaN   NaN    NaN           NaN                NaN   \n",
              "4  1325318160   NaN   NaN   NaN    NaN           NaN                NaN   \n",
              "\n",
              "   Weighted_Price  \n",
              "0            4.39  \n",
              "1             NaN  \n",
              "2             NaN  \n",
              "3             NaN  \n",
              "4             NaN  "
            ],
            "text/html": [
              "\n",
              "\n",
              "  <div id=\"df-b9177ba2-69a3-49c4-a466-fc7da37391bf\">\n",
              "    <div class=\"colab-df-container\">\n",
              "      <div>\n",
              "<style scoped>\n",
              "    .dataframe tbody tr th:only-of-type {\n",
              "        vertical-align: middle;\n",
              "    }\n",
              "\n",
              "    .dataframe tbody tr th {\n",
              "        vertical-align: top;\n",
              "    }\n",
              "\n",
              "    .dataframe thead th {\n",
              "        text-align: right;\n",
              "    }\n",
              "</style>\n",
              "<table border=\"1\" class=\"dataframe\">\n",
              "  <thead>\n",
              "    <tr style=\"text-align: right;\">\n",
              "      <th></th>\n",
              "      <th>Timestamp</th>\n",
              "      <th>Open</th>\n",
              "      <th>High</th>\n",
              "      <th>Low</th>\n",
              "      <th>Close</th>\n",
              "      <th>Volume_(BTC)</th>\n",
              "      <th>Volume_(Currency)</th>\n",
              "      <th>Weighted_Price</th>\n",
              "    </tr>\n",
              "  </thead>\n",
              "  <tbody>\n",
              "    <tr>\n",
              "      <th>0</th>\n",
              "      <td>1325317920</td>\n",
              "      <td>4.39</td>\n",
              "      <td>4.39</td>\n",
              "      <td>4.39</td>\n",
              "      <td>4.39</td>\n",
              "      <td>0.455581</td>\n",
              "      <td>2.0</td>\n",
              "      <td>4.39</td>\n",
              "    </tr>\n",
              "    <tr>\n",
              "      <th>1</th>\n",
              "      <td>1325317980</td>\n",
              "      <td>NaN</td>\n",
              "      <td>NaN</td>\n",
              "      <td>NaN</td>\n",
              "      <td>NaN</td>\n",
              "      <td>NaN</td>\n",
              "      <td>NaN</td>\n",
              "      <td>NaN</td>\n",
              "    </tr>\n",
              "    <tr>\n",
              "      <th>2</th>\n",
              "      <td>1325318040</td>\n",
              "      <td>NaN</td>\n",
              "      <td>NaN</td>\n",
              "      <td>NaN</td>\n",
              "      <td>NaN</td>\n",
              "      <td>NaN</td>\n",
              "      <td>NaN</td>\n",
              "      <td>NaN</td>\n",
              "    </tr>\n",
              "    <tr>\n",
              "      <th>3</th>\n",
              "      <td>1325318100</td>\n",
              "      <td>NaN</td>\n",
              "      <td>NaN</td>\n",
              "      <td>NaN</td>\n",
              "      <td>NaN</td>\n",
              "      <td>NaN</td>\n",
              "      <td>NaN</td>\n",
              "      <td>NaN</td>\n",
              "    </tr>\n",
              "    <tr>\n",
              "      <th>4</th>\n",
              "      <td>1325318160</td>\n",
              "      <td>NaN</td>\n",
              "      <td>NaN</td>\n",
              "      <td>NaN</td>\n",
              "      <td>NaN</td>\n",
              "      <td>NaN</td>\n",
              "      <td>NaN</td>\n",
              "      <td>NaN</td>\n",
              "    </tr>\n",
              "  </tbody>\n",
              "</table>\n",
              "</div>\n",
              "      <button class=\"colab-df-convert\" onclick=\"convertToInteractive('df-b9177ba2-69a3-49c4-a466-fc7da37391bf')\"\n",
              "              title=\"Convert this dataframe to an interactive table.\"\n",
              "              style=\"display:none;\">\n",
              "\n",
              "  <svg xmlns=\"http://www.w3.org/2000/svg\" height=\"24px\"viewBox=\"0 0 24 24\"\n",
              "       width=\"24px\">\n",
              "    <path d=\"M0 0h24v24H0V0z\" fill=\"none\"/>\n",
              "    <path d=\"M18.56 5.44l.94 2.06.94-2.06 2.06-.94-2.06-.94-.94-2.06-.94 2.06-2.06.94zm-11 1L8.5 8.5l.94-2.06 2.06-.94-2.06-.94L8.5 2.5l-.94 2.06-2.06.94zm10 10l.94 2.06.94-2.06 2.06-.94-2.06-.94-.94-2.06-.94 2.06-2.06.94z\"/><path d=\"M17.41 7.96l-1.37-1.37c-.4-.4-.92-.59-1.43-.59-.52 0-1.04.2-1.43.59L10.3 9.45l-7.72 7.72c-.78.78-.78 2.05 0 2.83L4 21.41c.39.39.9.59 1.41.59.51 0 1.02-.2 1.41-.59l7.78-7.78 2.81-2.81c.8-.78.8-2.07 0-2.86zM5.41 20L4 18.59l7.72-7.72 1.47 1.35L5.41 20z\"/>\n",
              "  </svg>\n",
              "      </button>\n",
              "\n",
              "\n",
              "\n",
              "    <div id=\"df-32c1e453-3a5a-4ea1-8526-626a4b929a66\">\n",
              "      <button class=\"colab-df-quickchart\" onclick=\"quickchart('df-32c1e453-3a5a-4ea1-8526-626a4b929a66')\"\n",
              "              title=\"Suggest charts.\"\n",
              "              style=\"display:none;\">\n",
              "\n",
              "<svg xmlns=\"http://www.w3.org/2000/svg\" height=\"24px\"viewBox=\"0 0 24 24\"\n",
              "     width=\"24px\">\n",
              "    <g>\n",
              "        <path d=\"M19 3H5c-1.1 0-2 .9-2 2v14c0 1.1.9 2 2 2h14c1.1 0 2-.9 2-2V5c0-1.1-.9-2-2-2zM9 17H7v-7h2v7zm4 0h-2V7h2v10zm4 0h-2v-4h2v4z\"/>\n",
              "    </g>\n",
              "</svg>\n",
              "      </button>\n",
              "    </div>\n",
              "\n",
              "<style>\n",
              "  .colab-df-quickchart {\n",
              "    background-color: #E8F0FE;\n",
              "    border: none;\n",
              "    border-radius: 50%;\n",
              "    cursor: pointer;\n",
              "    display: none;\n",
              "    fill: #1967D2;\n",
              "    height: 32px;\n",
              "    padding: 0 0 0 0;\n",
              "    width: 32px;\n",
              "  }\n",
              "\n",
              "  .colab-df-quickchart:hover {\n",
              "    background-color: #E2EBFA;\n",
              "    box-shadow: 0px 1px 2px rgba(60, 64, 67, 0.3), 0px 1px 3px 1px rgba(60, 64, 67, 0.15);\n",
              "    fill: #174EA6;\n",
              "  }\n",
              "\n",
              "  [theme=dark] .colab-df-quickchart {\n",
              "    background-color: #3B4455;\n",
              "    fill: #D2E3FC;\n",
              "  }\n",
              "\n",
              "  [theme=dark] .colab-df-quickchart:hover {\n",
              "    background-color: #434B5C;\n",
              "    box-shadow: 0px 1px 3px 1px rgba(0, 0, 0, 0.15);\n",
              "    filter: drop-shadow(0px 1px 2px rgba(0, 0, 0, 0.3));\n",
              "    fill: #FFFFFF;\n",
              "  }\n",
              "</style>\n",
              "\n",
              "    <script>\n",
              "      async function quickchart(key) {\n",
              "        const containerElement = document.querySelector('#' + key);\n",
              "        const charts = await google.colab.kernel.invokeFunction(\n",
              "            'suggestCharts', [key], {});\n",
              "      }\n",
              "    </script>\n",
              "\n",
              "      <script>\n",
              "\n",
              "function displayQuickchartButton(domScope) {\n",
              "  let quickchartButtonEl =\n",
              "    domScope.querySelector('#df-32c1e453-3a5a-4ea1-8526-626a4b929a66 button.colab-df-quickchart');\n",
              "  quickchartButtonEl.style.display =\n",
              "    google.colab.kernel.accessAllowed ? 'block' : 'none';\n",
              "}\n",
              "\n",
              "        displayQuickchartButton(document);\n",
              "      </script>\n",
              "      <style>\n",
              "    .colab-df-container {\n",
              "      display:flex;\n",
              "      flex-wrap:wrap;\n",
              "      gap: 12px;\n",
              "    }\n",
              "\n",
              "    .colab-df-convert {\n",
              "      background-color: #E8F0FE;\n",
              "      border: none;\n",
              "      border-radius: 50%;\n",
              "      cursor: pointer;\n",
              "      display: none;\n",
              "      fill: #1967D2;\n",
              "      height: 32px;\n",
              "      padding: 0 0 0 0;\n",
              "      width: 32px;\n",
              "    }\n",
              "\n",
              "    .colab-df-convert:hover {\n",
              "      background-color: #E2EBFA;\n",
              "      box-shadow: 0px 1px 2px rgba(60, 64, 67, 0.3), 0px 1px 3px 1px rgba(60, 64, 67, 0.15);\n",
              "      fill: #174EA6;\n",
              "    }\n",
              "\n",
              "    [theme=dark] .colab-df-convert {\n",
              "      background-color: #3B4455;\n",
              "      fill: #D2E3FC;\n",
              "    }\n",
              "\n",
              "    [theme=dark] .colab-df-convert:hover {\n",
              "      background-color: #434B5C;\n",
              "      box-shadow: 0px 1px 3px 1px rgba(0, 0, 0, 0.15);\n",
              "      filter: drop-shadow(0px 1px 2px rgba(0, 0, 0, 0.3));\n",
              "      fill: #FFFFFF;\n",
              "    }\n",
              "  </style>\n",
              "\n",
              "      <script>\n",
              "        const buttonEl =\n",
              "          document.querySelector('#df-b9177ba2-69a3-49c4-a466-fc7da37391bf button.colab-df-convert');\n",
              "        buttonEl.style.display =\n",
              "          google.colab.kernel.accessAllowed ? 'block' : 'none';\n",
              "\n",
              "        async function convertToInteractive(key) {\n",
              "          const element = document.querySelector('#df-b9177ba2-69a3-49c4-a466-fc7da37391bf');\n",
              "          const dataTable =\n",
              "            await google.colab.kernel.invokeFunction('convertToInteractive',\n",
              "                                                     [key], {});\n",
              "          if (!dataTable) return;\n",
              "\n",
              "          const docLinkHtml = 'Like what you see? Visit the ' +\n",
              "            '<a target=\"_blank\" href=https://colab.research.google.com/notebooks/data_table.ipynb>data table notebook</a>'\n",
              "            + ' to learn more about interactive tables.';\n",
              "          element.innerHTML = '';\n",
              "          dataTable['output_type'] = 'display_data';\n",
              "          await google.colab.output.renderOutput(dataTable, element);\n",
              "          const docLink = document.createElement('div');\n",
              "          docLink.innerHTML = docLinkHtml;\n",
              "          element.appendChild(docLink);\n",
              "        }\n",
              "      </script>\n",
              "    </div>\n",
              "  </div>\n"
            ]
          },
          "metadata": {},
          "execution_count": 7
        }
      ]
    },
    {
      "cell_type": "code",
      "source": [
        "df.shape"
      ],
      "metadata": {
        "colab": {
          "base_uri": "https://localhost:8080/"
        },
        "id": "c-IFR1QtiyMe",
        "outputId": "e1d75ee3-7ac3-41e5-f1eb-d30f6efdcfb2"
      },
      "execution_count": 9,
      "outputs": [
        {
          "output_type": "execute_result",
          "data": {
            "text/plain": [
              "(4857377, 8)"
            ]
          },
          "metadata": {},
          "execution_count": 9
        }
      ]
    },
    {
      "cell_type": "code",
      "source": [
        "df.dtypes"
      ],
      "metadata": {
        "colab": {
          "base_uri": "https://localhost:8080/"
        },
        "id": "w9coUXTYi5N7",
        "outputId": "2e185e55-1856-40d9-d8e4-fe6757171bd1"
      },
      "execution_count": 10,
      "outputs": [
        {
          "output_type": "execute_result",
          "data": {
            "text/plain": [
              "Timestamp              int64\n",
              "Open                 float64\n",
              "High                 float64\n",
              "Low                  float64\n",
              "Close                float64\n",
              "Volume_(BTC)         float64\n",
              "Volume_(Currency)    float64\n",
              "Weighted_Price       float64\n",
              "dtype: object"
            ]
          },
          "metadata": {},
          "execution_count": 10
        }
      ]
    }
  ]
}